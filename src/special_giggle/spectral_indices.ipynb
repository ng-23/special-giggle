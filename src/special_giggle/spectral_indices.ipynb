{
 "cells": [
  {
   "cell_type": "markdown",
   "metadata": {},
   "source": [
    "# Spectral Indices Calculation Notebook\n",
    "\n",
    "The aim of this notebook is to construct a timeseries dataset of various spectral indices from the multi-band images from Sentinel-2. In theory, the values of these indices may serve as helpful features for predicting flood events.\n",
    "\n",
    "## Helpful Resources\n",
    "- [How to Make Outstanding Maps with Sentinel-2 and ArcGIS Pro – Part 2: Spectral Indices](https://www.staridasgeography.gr/how-to-make-outstanding-maps-with-sentinel-2-and-arcgis-pro-part-2-spectral-indices/)"
   ]
  }
 ],
 "metadata": {
  "kernelspec": {
   "display_name": "zindi-flood",
   "language": "python",
   "name": "python3"
  },
  "language_info": {
   "name": "python",
   "version": "3.12.8"
  }
 },
 "nbformat": 4,
 "nbformat_minor": 2
}
