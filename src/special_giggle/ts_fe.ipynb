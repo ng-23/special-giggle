{
 "cells": [
  {
   "cell_type": "code",
   "execution_count": null,
   "metadata": {},
   "outputs": [],
   "source": [
    "'''\n",
    "Time series feature engineering notebook\n",
    "\n",
    "Goal: introduce additional features so the model has more relevant information to learn from\n",
    "'''\n",
    "\n",
    "import numpy as np\n",
    "import pandas as pd\n",
    "import matplotlib.pyplot as plt\n",
    "from tqdm import tqdm"
   ]
  },
  {
   "cell_type": "code",
   "execution_count": null,
   "metadata": {},
   "outputs": [],
   "source": [
    "# let's start by separating the location from the timestamp\n",
    "# each location is geographically different, so flood conditions may vary across locations\n",
    "# so the location will essentially serve as a categorical feature"
   ]
  },
  {
   "cell_type": "code",
   "execution_count": null,
   "metadata": {},
   "outputs": [],
   "source": [
    "# let's derive the month from the timestamp\n",
    "# certain months may correspond to a wet/dry season for a particular location,\n",
    "# which can help explain increased/decreased rainfall that could relate to flood events"
   ]
  },
  {
   "cell_type": "code",
   "execution_count": null,
   "metadata": {},
   "outputs": [],
   "source": [
    "# the American Meteorological Society (AMS) defines intensities for rainfall periods (https://glossary.ametsoc.org/wiki/Rain)\n",
    "# let's track the rainfall intensity for each day using the daily precipitation (24 hours)"
   ]
  },
  {
   "cell_type": "code",
   "execution_count": null,
   "metadata": {},
   "outputs": [],
   "source": [
    "# let's keep a running total of the rainfall for each month\n",
    "# intuitively, the more water there is (e.g. from rainfall), the more likely a flood is to occur\n",
    "# so the rainier a month is, the more likely it is to have a flood event"
   ]
  },
  {
   "cell_type": "code",
   "execution_count": null,
   "metadata": {},
   "outputs": [],
   "source": [
    "# let's keep a running average of the rainfall for each month as well\n",
    "# intuitively, months with a higher average rainfall would be more likely to have a flood event"
   ]
  },
  {
   "cell_type": "code",
   "execution_count": null,
   "metadata": {},
   "outputs": [],
   "source": [
    "# \"You will work with a dataset that includes reported flood locations from 1981 to 2023 in South Africa, \n",
    "# with CHIRPS data aggregated within a 5km radius of each reported flood point.\"\n",
    "# if each location is a circle with a 5 km radius, then we can calculate the area of each location\n",
    "# let's keep a running total of the rainfall volume for each month, calculated using area and average rainfall\n",
    "# see https://www.mathnasium.com/blog/how-do-we-measure-rainfall"
   ]
  },
  {
   "cell_type": "code",
   "execution_count": null,
   "metadata": {},
   "outputs": [],
   "source": []
  }
 ],
 "metadata": {
  "kernelspec": {
   "display_name": "zindi-flood",
   "language": "python",
   "name": "python3"
  },
  "language_info": {
   "name": "python",
   "version": "3.12.8"
  }
 },
 "nbformat": 4,
 "nbformat_minor": 2
}
