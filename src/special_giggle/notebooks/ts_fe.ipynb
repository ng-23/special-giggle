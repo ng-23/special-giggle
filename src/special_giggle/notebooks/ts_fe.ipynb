{
 "cells": [
  {
   "cell_type": "markdown",
   "metadata": {},
   "source": [
    "# Timeseries Feature Engineering Notebook\n",
    "\n",
    "The aim of this notebook is to derive and introduce additional relevant features to the train/test timeseries datasets as a means of enhancing the model's performance."
   ]
  },
  {
   "cell_type": "code",
   "execution_count": 1,
   "metadata": {},
   "outputs": [],
   "source": [
    "import numpy as np\n",
    "import pandas as pd\n",
    "import matplotlib.pyplot as plt\n",
    "from tqdm import tqdm"
   ]
  },
  {
   "cell_type": "code",
   "execution_count": 2,
   "metadata": {},
   "outputs": [],
   "source": [
    "# let's start by separating the location from the timestamp\n",
    "# each location is geographically different, so flood conditions may vary across locations\n",
    "# so the location will essentially serve as a categorical feature"
   ]
  },
  {
   "cell_type": "code",
   "execution_count": 3,
   "metadata": {},
   "outputs": [],
   "source": [
    "# let's derive the month from the timestamp\n",
    "# certain months may correspond to a wet/dry season for a particular location,\n",
    "# which can help explain increased/decreased rainfall that could relate to flood events"
   ]
  },
  {
   "cell_type": "code",
   "execution_count": 4,
   "metadata": {},
   "outputs": [],
   "source": [
    "# let's identify the season from the month, according to https://southafrica-info.com/land/south-africa-weather-climate/"
   ]
  },
  {
   "cell_type": "code",
   "execution_count": 5,
   "metadata": {},
   "outputs": [],
   "source": [
    "# the American Meteorological Society (AMS) defines intensities for rainfall periods (https://glossary.ametsoc.org/wiki/Rain)\n",
    "# let's track the rainfall intensity for each day using the daily precipitation (24 hours)"
   ]
  },
  {
   "cell_type": "code",
   "execution_count": 6,
   "metadata": {},
   "outputs": [],
   "source": [
    "# let's keep a running total of the rainfall for each month\n",
    "# intuitively, the more water there is (e.g. from rainfall), the more likely a flood is to occur\n",
    "# so the rainier a month is, the more likely it is to have a flood event"
   ]
  },
  {
   "cell_type": "code",
   "execution_count": 7,
   "metadata": {},
   "outputs": [],
   "source": [
    "# let's keep a running average of the rainfall for each month as well\n",
    "# intuitively, months with a higher average rainfall would be more likely to have a flood event"
   ]
  },
  {
   "cell_type": "code",
   "execution_count": null,
   "metadata": {},
   "outputs": [],
   "source": []
  }
 ],
 "metadata": {
  "kernelspec": {
   "display_name": "zindi-flood",
   "language": "python",
   "name": "python3"
  },
  "language_info": {
   "codemirror_mode": {
    "name": "ipython",
    "version": 3
   },
   "file_extension": ".py",
   "mimetype": "text/x-python",
   "name": "python",
   "nbconvert_exporter": "python",
   "pygments_lexer": "ipython3",
   "version": "3.12.8"
  }
 },
 "nbformat": 4,
 "nbformat_minor": 2
}
