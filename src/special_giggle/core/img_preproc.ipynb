{
 "cells": [
  {
   "cell_type": "markdown",
   "metadata": {},
   "source": [
    "# Multi-band Sentinel-2 Image Preprocessing Notebook\n",
    "\n",
    "The aim of this notebook is to preprocess the multi-band images from Sentinel-2 such that they can provide more relevant/useful information in downstream applications. Mainly, this entails combining the various bands and calculating spectral indices to produce composite images that better emphasize certain features.\n",
    "\n",
    "## Output Format\n",
    "This notebook generates an output file - specifically, an HDF5 file. It is structured with each location as the top-most group, and every day (0-729) as a subgroup in each location. The composite images are then stored in the day subgroup of each location group.\n",
    "\n",
    "## Helpful Resources\n",
    "- [Sentinel Hub Scripts](https://custom-scripts.sentinel-hub.com/custom-scripts/sentinel/sentinel-2/)\n",
    "- [Sentinel 2 Bands and Combinations](https://gisgeography.com/sentinel-2-bands-combinations/)\n",
    "- [Spectral Signature Cheatsheet in Remote Sensing](https://gisgeography.com/spectral-signature/)\n",
    "- [How to Make Outstanding Maps with Sentinel-2 and ArcGIS Pro – Part 1: Band Combinations](https://www.staridasgeography.gr/how-to-make-outstanding-maps-with-sentinel-2-and-arcgis-pro-part-1-band-combinations/)\n",
    "- [How to Make Outstanding Maps with Sentinel-2 and ArcGIS Pro – Part 2: Spectral Indices](https://www.staridasgeography.gr/how-to-make-outstanding-maps-with-sentinel-2-and-arcgis-pro-part-2-spectral-indices/)\n",
    "- [Awesome Spectral Indices](https://awesome-ee-spectral-indices.readthedocs.io/en/latest/list.html)\n",
    "- [Index DataBase](https://www.indexdatabase.de/db/i.php)"
   ]
  },
  {
   "cell_type": "code",
   "execution_count": null,
   "metadata": {},
   "outputs": [],
   "source": []
  }
 ],
 "metadata": {
  "kernelspec": {
   "display_name": "zindi-flood",
   "language": "python",
   "name": "python3"
  },
  "language_info": {
   "codemirror_mode": {
    "name": "ipython",
    "version": 3
   },
   "file_extension": ".py",
   "mimetype": "text/x-python",
   "name": "python",
   "nbconvert_exporter": "python",
   "pygments_lexer": "ipython3",
   "version": "3.12.8"
  }
 },
 "nbformat": 4,
 "nbformat_minor": 2
}
